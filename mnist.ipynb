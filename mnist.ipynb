{
 "cells": [
  {
   "cell_type": "code",
   "execution_count": 59,
   "metadata": {
    "id": "XRuSCprMxuYr"
   },
   "outputs": [],
   "source": [
    "import torch\n",
    "import torchvision\n",
    "import torch.nn.functional as F\n",
    "from torch import nn\n",
    "\n",
    "import numpy as np\n",
    "import matplotlib.pyplot as plt\n",
    "\n",
    "mnist_train = torchvision.datasets.MNIST(root=\"\", train=True, download=True, transform=torchvision.transforms.ToTensor())\n",
    "mnist_test = torchvision.datasets.MNIST(root=\"\", train=False, download=True, transform=torchvision.transforms.ToTensor())"
   ]
  },
  {
   "cell_type": "code",
   "execution_count": 3,
   "metadata": {
    "colab": {
     "base_uri": "https://localhost:8080/"
    },
    "id": "IFvWlLmpey0n",
    "outputId": "5c4e9cb9-012d-4227-c7c8-868bcdc0971a"
   },
   "outputs": [
    {
     "name": "stdout",
     "output_type": "stream",
     "text": [
      "Fri Jun 25 07:52:36 2021       \n",
      "+-----------------------------------------------------------------------------+\n",
      "| NVIDIA-SMI 465.27       Driver Version: 460.32.03    CUDA Version: 11.2     |\n",
      "|-------------------------------+----------------------+----------------------+\n",
      "| GPU  Name        Persistence-M| Bus-Id        Disp.A | Volatile Uncorr. ECC |\n",
      "| Fan  Temp  Perf  Pwr:Usage/Cap|         Memory-Usage | GPU-Util  Compute M. |\n",
      "|                               |                      |               MIG M. |\n",
      "|===============================+======================+======================|\n",
      "|   0  Tesla T4            Off  | 00000000:00:04.0 Off |                    0 |\n",
      "| N/A   61C    P8    10W /  70W |      3MiB / 15109MiB |      0%      Default |\n",
      "|                               |                      |                  N/A |\n",
      "+-------------------------------+----------------------+----------------------+\n",
      "                                                                               \n",
      "+-----------------------------------------------------------------------------+\n",
      "| Processes:                                                                  |\n",
      "|  GPU   GI   CI        PID   Type   Process name                  GPU Memory |\n",
      "|        ID   ID                                                   Usage      |\n",
      "|=============================================================================|\n",
      "|  No running processes found                                                 |\n",
      "+-----------------------------------------------------------------------------+\n"
     ]
    }
   ],
   "source": [
    "# on colab, change runtime -> GPU\n",
    "device = torch.device(\"cuda\" if torch.cuda.is_available() else \"cpu\")\n",
    "!nvidia-smi"
   ]
  },
  {
   "cell_type": "code",
   "execution_count": 56,
   "metadata": {
    "id": "AJYgaFtVI9y9"
   },
   "outputs": [],
   "source": [
    "EPOCH = 10\n",
    "LR = 0.3\n",
    "MOMENTUM = 0.9\n",
    "batch_size = 256\n",
    "num_workers = 0\n",
    "\n",
    "mnist_train_iter = torch.utils.data.DataLoader(mnist_train, batch_size, shuffle=True, num_workers=num_workers)\n",
    "mnist_test_iter = torch.utils.data.DataLoader(mnist_test, batch_size, shuffle=False, num_workers=num_workers)\n",
    "\n",
    "class Net(nn.Module):\n",
    "  def __init__(self):\n",
    "    super(Net, self).__init__()\n",
    "    self.cnn = nn.Sequential(nn.Conv2d(1, 24, 3, 1, 1),\n",
    "                             nn.ReLU(),\n",
    "                             nn.MaxPool2d(2),\n",
    "                             nn.Conv2d(24, 48, 3, 1, 1),\n",
    "                             nn.ReLU(), \n",
    "                             nn.MaxPool2d(2))\n",
    "\n",
    "    self.linear = nn.Sequential(nn.Flatten(), nn.Linear(2352, 64), nn.BatchNorm1d(64),\n",
    "                                nn.ReLU(), nn.Dropout(0.3), nn.Linear(64, 10))\n",
    "  def forward(self, x):\n",
    "    x = self.cnn(x)\n",
    "    x = self.linear(x)\n",
    "    return x\n",
    "model = Net().to(device)\n",
    "\n",
    "criterion = nn.CrossEntropyLoss()\n",
    "optimizer = torch.optim.SGD(model.parameters(), LR, MOMENTUM)"
   ]
  },
  {
   "cell_type": "code",
   "execution_count": 57,
   "metadata": {
    "colab": {
     "base_uri": "https://localhost:8080/"
    },
    "id": "vDrbxhnOcV8k",
    "outputId": "fe271d27-2e67-41d0-e003-b4793c487e76"
   },
   "outputs": [
    {
     "name": "stdout",
     "output_type": "stream",
     "text": [
      "Training accuracy: 0.9467166662216187, training loss: 0.0006903963724772136 \n",
      "Testing accuracy: 0.98499995470047\n",
      "saved\n",
      "Training accuracy: 0.9793333411216736, training loss: 0.00026551415907839933 \n",
      "Testing accuracy: 0.9865999817848206\n",
      "saved\n",
      "Training accuracy: 0.9838500022888184, training loss: 0.00020573906141022841 \n",
      "Testing accuracy: 0.983299970626831\n",
      "Training accuracy: 0.9860666990280151, training loss: 0.0001782986552764972 \n",
      "Testing accuracy: 0.9896999597549438\n",
      "saved\n",
      "Training accuracy: 0.9898666739463806, training loss: 0.00012844264898837233 \n",
      "Testing accuracy: 0.9861999750137329\n",
      "Training accuracy: 0.9894500374794006, training loss: 0.00012935223076492548 \n",
      "Testing accuracy: 0.9893999695777893\n",
      "Training accuracy: 0.9916833639144897, training loss: 0.00010442972225137055 \n",
      "Testing accuracy: 0.9893999695777893\n",
      "Training accuracy: 0.9923333525657654, training loss: 9.560251724130164e-05 \n",
      "Testing accuracy: 0.9916999936103821\n",
      "saved\n",
      "Training accuracy: 0.9929500222206116, training loss: 8.67629635729827e-05 \n",
      "Testing accuracy: 0.9886999726295471\n",
      "Training accuracy: 0.9934000372886658, training loss: 7.911986712521562e-05 \n",
      "Testing accuracy: 0.9934999942779541\n",
      "saved\n"
     ]
    }
   ],
   "source": [
    "def num_correct(y_hat, y):\n",
    "  correct_arr = y_hat.argmax(axis=1) == y\n",
    "  return correct_arr.sum()\n",
    "\n",
    "best_acc = 0\n",
    "for e in range(EPOCH):\n",
    "  model.train()\n",
    "\n",
    "  total_loss = 0\n",
    "  acc = 0\n",
    "  for X, y in mnist_train_iter:\n",
    "    X, y = X.to(device), y.to(device)\n",
    "    y_hat = model(X)\n",
    "    loss = criterion(y_hat, y)\n",
    "\n",
    "    optimizer.zero_grad()\n",
    "    loss.backward()\n",
    "    optimizer.step()\n",
    "\n",
    "    total_loss += loss.item()\n",
    "    acc += num_correct(y_hat, y)\n",
    "  print(\"Training accuracy: {}, training loss: {} \".format(acc / len(mnist_train_iter.dataset),\n",
    "                                                           total_loss / len(mnist_train_iter.dataset)))\n",
    "\n",
    "  model.eval()\n",
    "  test = 0\n",
    "  with torch.no_grad():\n",
    "    for X, y in mnist_test_iter:\n",
    "      X, y = X.to(device), y.to(device)\n",
    "      y_hat = model(X)\n",
    "\n",
    "      test += num_correct(y_hat, y)\n",
    "  acc = test / len(mnist_test_iter.dataset)\n",
    "  print(\"Testing accuracy: {}\".format(acc))\n",
    "\n",
    "  if (acc > best_acc):\n",
    "    torch.save(model, \"saved_model\")\n",
    "    best_acc = acc\n",
    "    print(\"saved\")"
   ]
  },
  {
   "cell_type": "markdown",
   "metadata": {
    "id": "P6BPKtBo1OCo"
   },
   "source": [
    "# visualized input and output"
   ]
  },
  {
   "cell_type": "code",
   "execution_count": 58,
   "metadata": {
    "colab": {
     "base_uri": "https://localhost:8080/",
     "height": 401
    },
    "id": "NRufo07Yuq17",
    "outputId": "e7729f92-fbb1-405b-cf90-052ff3b4356c"
   },
   "outputs": [
    {
     "name": "stdout",
     "output_type": "stream",
     "text": [
      "Testing accuracy: 0.9934999942779541\n",
      "2 1 0 4 1 4 9 5 \n",
      "9 0 6 9 0 1 5 9 \n",
      "7 3 4 9 6 6 5 4 \n",
      "0 7 4 0 1 3 1 3 \n",
      "4 7 2 7 1 2 1 1 \n",
      "7 4 2 3 5 1 2 4 \n",
      "4 6 3 5 5 6 0 4 \n",
      "1 9 5 7 8 9 3 7 \n"
     ]
    },
    {
     "data": {
      "image/png": "[encoded data removed]",
      "text/plain": [
       "<Figure size 432x288 with 64 Axes>"
      ]
     },
     "metadata": {
      "needs_background": "light",
      "tags": []
     },
     "output_type": "display_data"
    }
   ],
   "source": [
    "figure = plt.figure()\n",
    "size = 8\n",
    "\n",
    "saved_model = torch.load(\"saved_model\").to(device)\n",
    "saved_model.eval()\n",
    "\n",
    "test = 0\n",
    "with torch.no_grad():\n",
    "  for X, y in mnist_test_iter:\n",
    "    X, y = X.to(device), y.to(device)\n",
    "    y_hat = saved_model(X)\n",
    "    test += num_correct(y_hat, y)\n",
    "acc = test / len(mnist_test_iter.dataset)\n",
    "print(\"Testing accuracy: {}\".format(acc))\n",
    "\n",
    "with torch.no_grad():\n",
    "  for index in range(1, size * size + 1):\n",
    "    plt.subplot(size, size, index)\n",
    "    plt.axis('off')\n",
    "    plt.imshow(mnist_test[index][0].numpy().squeeze(), cmap='gray_r')\n",
    "\n",
    "    t = mnist_test[index][0].to(device)\n",
    "    t = t.unsqueeze(1)\n",
    "    out = saved_model(t)\n",
    "    prediction = out.argmax(dim=1, keepdim=True).cpu().numpy().item()\n",
    "    print(prediction, end=\" \")\n",
    "    if index % size == 0:\n",
    "      print(\"\")\n",
    "\n",
    "    if prediction != mnist_test[index][1]:\n",
    "      print(\"{}th was wrong, predicted {} but was {}\".format(index, prediction,\n",
    "                                                            mnist_test[index][1]))\n"
   ]
  }
 ],
 "metadata": {
  "accelerator": "GPU",
  "colab": {
   "collapsed_sections": [],
   "name": "mnist.ipynb",
   "provenance": []
  },
  "kernelspec": {
   "display_name": "Python 3",
   "language": "python",
   "name": "python3"
  },
  "language_info": {
   "codemirror_mode": {
    "name": "ipython",
    "version": 3
   },
   "file_extension": ".py",
   "mimetype": "text/x-python",
   "name": "python",
   "nbconvert_exporter": "python",
   "pygments_lexer": "ipython3",
   "version": "3.8.5"
  }
 },
 "nbformat": 4,
 "nbformat_minor": 1
}
